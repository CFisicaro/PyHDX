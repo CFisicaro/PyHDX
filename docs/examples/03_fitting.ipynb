{
 "cells": [
  {
   "cell_type": "markdown",
   "source": [
    "# Fitting"
   ],
   "metadata": {
    "collapsed": false,
    "pycharm": {
     "name": "#%% md\n"
    }
   }
  },
  {
   "cell_type": "code",
   "execution_count": 29,
   "outputs": [],
   "source": [
    "import matplotlib.pyplot as plt\n",
    "from pyhdx import PeptideMasterTable, read_dynamx, HDXMeasurement\n",
    "from pyhdx.fitting import fit_rates_half_time_interpolate, fit_rates_weighted_average, fit_gibbs_global\n",
    "from pathlib import Path\n",
    "import numpy as np\n",
    "from dask.distributed import Client"
   ],
   "metadata": {
    "collapsed": false,
    "pycharm": {
     "name": "#%%\n"
    }
   }
  },
  {
   "cell_type": "markdown",
   "source": [
    "We load the sample SecB dataset, apply the control, and create an ``HDXMeasurement`` object."
   ],
   "metadata": {
    "collapsed": false
   }
  },
  {
   "cell_type": "code",
   "execution_count": 26,
   "outputs": [],
   "source": [
    "fpath = Path() / '..' / '..' / 'tests' / 'test_data' / 'ecSecB_apo.csv'\n",
    "data = read_dynamx(fpath)\n",
    "master_table = PeptideMasterTable(data, drop_first=1, ignore_prolines=True)\n",
    "master_table.set_control(('Full deuteration control', 0.167))\n",
    "state_data = master_table.get_state('SecB WT apo')\n",
    "hdxm = HDXMeasurement(state_data, temperature=303.15, pH=8.)"
   ],
   "metadata": {
    "collapsed": false,
    "pycharm": {
     "name": "#%%\n"
    }
   }
  },
  {
   "cell_type": "markdown",
   "source": [
    "The first step is to obtain initial guesses for the observed rate of D-exchange.\n",
    "By determining the timepoint at which 0.5 RFU (relative fractional uptake) is reached, and subsequently converting to rate,\n",
    "a rough estimate of exchange rate per residue can be obtained. Here, RFU values are mapped from peptides to individual\n",
    "residues by weighted averaging (where the weight is the inverse of peptide length)"
   ],
   "metadata": {
    "collapsed": false
   }
  },
  {
   "cell_type": "code",
   "execution_count": 28,
   "outputs": [
    {
     "name": "stderr",
     "output_type": "stream",
     "text": [
      "C:\\Users\\jhsmi\\pp\\PyHDX\\pyhdx\\models.py:647: RuntimeWarning: invalid value encountered in true_divide\n",
      "  return self.Z / np.sum(self.Z, axis=0)[np.newaxis, :]\n"
     ]
    },
    {
     "data": {
      "text/plain": "<pyhdx.models.Protein at 0x203de7bcf10>",
      "text/html": "<div>\n<style scoped>\n    .dataframe tbody tr th:only-of-type {\n        vertical-align: middle;\n    }\n\n    .dataframe tbody tr th {\n        vertical-align: top;\n    }\n\n    .dataframe thead th {\n        text-align: right;\n    }\n</style>\n<table border=\"1\" class=\"dataframe\">\n  <thead>\n    <tr style=\"text-align: right;\">\n      <th></th>\n      <th>rate</th>\n    </tr>\n    <tr>\n      <th>r_number</th>\n      <th></th>\n    </tr>\n  </thead>\n  <tbody>\n    <tr>\n      <th>10</th>\n      <td>3.267322</td>\n    </tr>\n    <tr>\n      <th>11</th>\n      <td>3.267322</td>\n    </tr>\n    <tr>\n      <th>12</th>\n      <td>2.118046</td>\n    </tr>\n    <tr>\n      <th>13</th>\n      <td>2.118046</td>\n    </tr>\n    <tr>\n      <th>14</th>\n      <td>2.118046</td>\n    </tr>\n    <tr>\n      <th>...</th>\n      <td>...</td>\n    </tr>\n    <tr>\n      <th>151</th>\n      <td>8.196291</td>\n    </tr>\n    <tr>\n      <th>152</th>\n      <td>8.187618</td>\n    </tr>\n    <tr>\n      <th>153</th>\n      <td>8.187618</td>\n    </tr>\n    <tr>\n      <th>154</th>\n      <td>8.187618</td>\n    </tr>\n    <tr>\n      <th>155</th>\n      <td>8.129137</td>\n    </tr>\n  </tbody>\n</table>\n<p>146 rows × 1 columns</p>\n</div>"
     },
     "execution_count": 28,
     "metadata": {},
     "output_type": "execute_result"
    }
   ],
   "source": [
    "fr_half_time = fit_rates_half_time_interpolate(hdxm)\n",
    "fr_half_time.output"
   ],
   "metadata": {
    "collapsed": false,
    "pycharm": {
     "name": "#%%\n"
    }
   }
  },
  {
   "cell_type": "markdown",
   "source": [
    "A more accurate result can be obtained by fitting the per-residue/timepoint RFU values to a biexponential association curve.\n",
    "This process is more time consuming and can optionally be processed in parallel by Dask."
   ],
   "metadata": {
    "collapsed": false,
    "pycharm": {
     "name": "#%% md\n"
    }
   }
  },
  {
   "cell_type": "code",
   "execution_count": 30,
   "outputs": [
    {
     "name": "stderr",
     "output_type": "stream",
     "text": [
      "C:\\Users\\jhsmi\\pp\\PyHDX\\pyhdx\\models.py:647: RuntimeWarning: invalid value encountered in true_divide\n",
      "  return self.Z / np.sum(self.Z, axis=0)[np.newaxis, :]\n"
     ]
    }
   ],
   "source": [
    "client = Client()\n",
    "fr_wt_avg = fit_rates_weighted_average(hdxm, client=client)"
   ],
   "metadata": {
    "collapsed": false,
    "pycharm": {
     "name": "#%%\n"
    }
   }
  },
  {
   "cell_type": "markdown",
   "source": [
    "The return value is a ``KineticsFitResult`` object. This object has a list of models, intervals in withing the protein \n",
    "sequence to which these models apply, and their corresponding ``symfit`` fit result with parameter values. The effective \n",
    "exchange rate can be extracted, as well as other fit parameters, from this object:"
   ],
   "metadata": {
    "collapsed": false,
    "pycharm": {
     "name": "#%% md\n"
    }
   }
  },
  {
   "cell_type": "code",
   "execution_count": 8,
   "outputs": [
    {
     "name": "stderr",
     "output_type": "stream",
     "text": [
      "C:\\Users\\jhsmi\\pp\\PyHDX\\pyhdx\\fit_models.py:224: RuntimeWarning: overflow encountered in exp\n",
      "  t = np.exp(t_log)\n"
     ]
    },
    {
     "data": {
      "text/plain": "<pyhdx.models.Protein at 0x203dd45e9d0>",
      "text/html": "<div>\n<style scoped>\n    .dataframe tbody tr th:only-of-type {\n        vertical-align: middle;\n    }\n\n    .dataframe tbody tr th {\n        vertical-align: top;\n    }\n\n    .dataframe thead th {\n        text-align: right;\n    }\n</style>\n<table border=\"1\" class=\"dataframe\">\n  <thead>\n    <tr style=\"text-align: right;\">\n      <th></th>\n      <th>rate</th>\n      <th>k1</th>\n      <th>k2</th>\n      <th>r</th>\n    </tr>\n    <tr>\n      <th>r_number</th>\n      <th></th>\n      <th></th>\n      <th></th>\n      <th></th>\n    </tr>\n  </thead>\n  <tbody>\n    <tr>\n      <th>10</th>\n      <td>0.000152</td>\n      <td>6.575096</td>\n      <td>0.000144</td>\n      <td>0.034594</td>\n    </tr>\n    <tr>\n      <th>11</th>\n      <td>0.000152</td>\n      <td>6.575096</td>\n      <td>0.000144</td>\n      <td>0.034594</td>\n    </tr>\n    <tr>\n      <th>12</th>\n      <td>0.000145</td>\n      <td>6.360308</td>\n      <td>0.000139</td>\n      <td>0.028303</td>\n    </tr>\n    <tr>\n      <th>13</th>\n      <td>0.000145</td>\n      <td>6.360308</td>\n      <td>0.000139</td>\n      <td>0.028303</td>\n    </tr>\n    <tr>\n      <th>14</th>\n      <td>0.000145</td>\n      <td>6.360308</td>\n      <td>0.000139</td>\n      <td>0.028303</td>\n    </tr>\n    <tr>\n      <th>...</th>\n      <td>...</td>\n      <td>...</td>\n      <td>...</td>\n      <td>...</td>\n    </tr>\n    <tr>\n      <th>151</th>\n      <td>0.000157</td>\n      <td>167.066539</td>\n      <td>0.000139</td>\n      <td>0.077195</td>\n    </tr>\n    <tr>\n      <th>152</th>\n      <td>0.000157</td>\n      <td>87.551071</td>\n      <td>0.000139</td>\n      <td>0.076878</td>\n    </tr>\n    <tr>\n      <th>153</th>\n      <td>0.000157</td>\n      <td>87.551071</td>\n      <td>0.000139</td>\n      <td>0.076878</td>\n    </tr>\n    <tr>\n      <th>154</th>\n      <td>0.000157</td>\n      <td>87.551071</td>\n      <td>0.000139</td>\n      <td>0.076878</td>\n    </tr>\n    <tr>\n      <th>155</th>\n      <td>0.000158</td>\n      <td>87.529782</td>\n      <td>0.000139</td>\n      <td>0.080037</td>\n    </tr>\n  </tbody>\n</table>\n<p>146 rows × 4 columns</p>\n</div>"
     },
     "execution_count": 8,
     "metadata": {},
     "output_type": "execute_result"
    }
   ],
   "source": [
    "fr_wt_avg.output"
   ],
   "metadata": {
    "collapsed": false,
    "pycharm": {
     "name": "#%%\n"
    }
   }
  },
  {
   "cell_type": "code",
   "execution_count": 34,
   "outputs": [
    {
     "data": {
      "text/plain": "<matplotlib.legend.Legend at 0x203e26220d0>"
     },
     "execution_count": 34,
     "metadata": {},
     "output_type": "execute_result"
    },
    {
     "data": {
      "text/plain": "<Figure size 432x288 with 1 Axes>",
      "image/png": "[encoded data removed]"
     },
     "metadata": {
      "needs_background": "light"
     },
     "output_type": "display_data"
    }
   ],
   "source": [
    "fig, ax = plt.subplots()\n",
    "ax.set_yscale('log')\n",
    "ax.scatter(fr_half_time.output.index, fr_half_time.output['rate'], label='half-time')\n",
    "ax.scatter(fr_wt_avg.output.index, fr_wt_avg.output['rate'], label='fit')\n",
    "\n",
    "ax.set_xlabel('Residue number')\n",
    "ax.set_ylabel('Rate (min⁻¹)')\n",
    "ax.legend()\n"
   ],
   "metadata": {
    "collapsed": false,
    "pycharm": {
     "name": "#%%\n"
    }
   }
  },
  {
   "cell_type": "code",
   "execution_count": 16,
   "outputs": [
    {
     "data": {
      "text/plain": "r_number\n10     0.006931\n11     0.006931\n12     0.006931\n13     0.006931\n14     0.006931\n         ...   \n151    0.006931\n152    0.006931\n153    0.006931\n154    0.006931\n155    0.006931\nName: rate, Length: 146, dtype: float64"
     },
     "execution_count": 16,
     "metadata": {},
     "output_type": "execute_result"
    }
   ],
   "source": [
    "fr_half_time.output.index\n",
    "fr_half_time.output['rate']"
   ],
   "metadata": {
    "collapsed": false,
    "pycharm": {
     "name": "#%%\n"
    }
   }
  },
  {
   "cell_type": "markdown",
   "source": [
    "We can now use the guessed rates to obtain guesses for the Gibbs free energy. Units of Gibbs free energy are J/mol."
   ],
   "metadata": {
    "collapsed": false,
    "pycharm": {
     "name": "#%% md\n"
    }
   }
  },
  {
   "cell_type": "code",
   "execution_count": 37,
   "outputs": [
    {
     "name": "stderr",
     "output_type": "stream",
     "text": [
      "C:\\Users\\jhsmi\\Miniconda3\\envs\\py38_pyhdx_pn011\\lib\\site-packages\\pandas\\core\\arraylike.py:358: RuntimeWarning: divide by zero encountered in log\n",
      "  result = getattr(ufunc, method)(*inputs, **kwargs)\n"
     ]
    },
    {
     "data": {
      "text/plain": "r_number\n10     19747.939087\n11     19283.438679\n12     20646.641138\n13     16871.792590\n14     18962.895160\n           ...     \n151     9109.773437\n152    10090.269807\n153    12514.149431\n154    12793.578998\n155     1359.395360\nLength: 146, dtype: float64"
     },
     "execution_count": 37,
     "metadata": {},
     "output_type": "execute_result"
    }
   ],
   "source": [
    "gibbs_guess = hdxm.guess_deltaG(fr_wt_avg.output['rate'])\n",
    "gibbs_guess"
   ],
   "metadata": {
    "collapsed": false,
    "pycharm": {
     "name": "#%%\n"
    }
   }
  },
  {
   "cell_type": "markdown",
   "source": [
    "To perform the global fit (all peptides and timepoints) use ``fit_gibbs_global``. The number of epochs is set to 1000\n",
    "here for demonstration but for actually fitting the values should be ~100000."
   ],
   "metadata": {
    "collapsed": false
   }
  },
  {
   "cell_type": "code",
   "execution_count": 39,
   "outputs": [
    {
     "data": {
      "text/plain": "<pyhdx.models.Protein at 0x203deabcbb0>",
      "text/html": "<div>\n<style scoped>\n    .dataframe tbody tr th:only-of-type {\n        vertical-align: middle;\n    }\n\n    .dataframe tbody tr th {\n        vertical-align: top;\n    }\n\n    .dataframe thead th {\n        text-align: right;\n    }\n</style>\n<table border=\"1\" class=\"dataframe\">\n  <thead>\n    <tr style=\"text-align: right;\">\n      <th></th>\n      <th>sequence</th>\n      <th>_deltaG</th>\n      <th>deltaG</th>\n      <th>pfact</th>\n      <th>covariance</th>\n    </tr>\n    <tr>\n      <th>r_number</th>\n      <th></th>\n      <th></th>\n      <th></th>\n      <th></th>\n      <th></th>\n    </tr>\n  </thead>\n  <tbody>\n    <tr>\n      <th>10</th>\n      <td>T</td>\n      <td>19744.187025</td>\n      <td>19744.187025</td>\n      <td>2523.367012</td>\n      <td>1.402503e+03</td>\n    </tr>\n    <tr>\n      <th>11</th>\n      <td>F</td>\n      <td>19321.203772</td>\n      <td>19321.203772</td>\n      <td>2133.532120</td>\n      <td>1.396647e+03</td>\n    </tr>\n    <tr>\n      <th>12</th>\n      <td>Q</td>\n      <td>20644.909999</td>\n      <td>20644.909999</td>\n      <td>3607.261193</td>\n      <td>7.731552e+02</td>\n    </tr>\n    <tr>\n      <th>13</th>\n      <td>I</td>\n      <td>16925.579275</td>\n      <td>16925.579275</td>\n      <td>824.757302</td>\n      <td>7.684344e+02</td>\n    </tr>\n    <tr>\n      <th>14</th>\n      <td>Q</td>\n      <td>18988.928838</td>\n      <td>18988.928838</td>\n      <td>1870.024322</td>\n      <td>7.705967e+02</td>\n    </tr>\n    <tr>\n      <th>...</th>\n      <td>...</td>\n      <td>...</td>\n      <td>...</td>\n      <td>...</td>\n      <td>...</td>\n    </tr>\n    <tr>\n      <th>151</th>\n      <td>E</td>\n      <td>9137.345851</td>\n      <td>9137.345851</td>\n      <td>37.531080</td>\n      <td>3.140214e+06</td>\n    </tr>\n    <tr>\n      <th>152</th>\n      <td>H</td>\n      <td>10090.269810</td>\n      <td>10090.269810</td>\n      <td>54.775029</td>\n      <td>9.471769e+05</td>\n    </tr>\n    <tr>\n      <th>153</th>\n      <td>Q</td>\n      <td>12514.149434</td>\n      <td>12514.149434</td>\n      <td>143.292702</td>\n      <td>9.369857e+05</td>\n    </tr>\n    <tr>\n      <th>154</th>\n      <td>D</td>\n      <td>12766.006587</td>\n      <td>12766.006587</td>\n      <td>158.350627</td>\n      <td>1.025263e+06</td>\n    </tr>\n    <tr>\n      <th>155</th>\n      <td>A</td>\n      <td>1373.460579</td>\n      <td>1373.460579</td>\n      <td>1.724452</td>\n      <td>7.296942e+03</td>\n    </tr>\n  </tbody>\n</table>\n<p>146 rows × 5 columns</p>\n</div>"
     },
     "execution_count": 39,
     "metadata": {},
     "output_type": "execute_result"
    }
   ],
   "source": [
    "gibbs_result = fit_gibbs_global(hdxm, gibbs_guess, epochs=1000)\n",
    "gibbs_output = gibbs_result.output\n",
    "gibbs_output"
   ],
   "metadata": {
    "collapsed": false,
    "pycharm": {
     "name": "#%%\n"
    }
   }
  },
  {
   "cell_type": "markdown",
   "source": [
    "Along with ΔG the fit result returns covariances of ΔG and protection factors."
   ],
   "metadata": {
    "collapsed": false,
    "pycharm": {
     "name": "#%% md\n"
    }
   }
  },
  {
   "cell_type": "code",
   "execution_count": 40,
   "outputs": [
    {
     "data": {
      "text/plain": "<Figure size 432x288 with 1 Axes>",
      "image/png": "[encoded data removed]"
     },
     "metadata": {
      "needs_background": "light"
     },
     "output_type": "display_data"
    }
   ],
   "source": [
    "fig, ax = plt.subplots()\n",
    "#ax.set_yscale('log')\n",
    "ax.scatter(gibbs_output.index, gibbs_output['deltaG']*1e-3)\n",
    "ax.set_xlabel('Residue number')\n",
    "ax.set_ylabel('ΔG (kJ/mol)')\n",
    "None\n",
    "\n",
    "\n"
   ],
   "metadata": {
    "collapsed": false,
    "pycharm": {
     "name": "#%%\n"
    }
   }
  }
 ],
 "metadata": {
  "kernelspec": {
   "name": "conda-env-py38_pyhdx_pn011-py",
   "language": "python",
   "display_name": "Python [conda env:py38_pyhdx_pn011]"
  },
  "language_info": {
   "codemirror_mode": {
    "name": "ipython",
    "version": 2
   },
   "file_extension": ".py",
   "mimetype": "text/x-python",
   "name": "python",
   "nbconvert_exporter": "python",
   "pygments_lexer": "ipython2",
   "version": "2.7.6"
  }
 },
 "nbformat": 4,
 "nbformat_minor": 0
}