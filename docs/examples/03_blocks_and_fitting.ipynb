{
 "cells": [
  {
   "cell_type": "markdown",
   "source": [
    "# Peptide blocks and Fitting"
   ],
   "metadata": {
    "collapsed": false,
    "pycharm": {
     "name": "#%% md\n"
    }
   }
  },
  {
   "cell_type": "code",
   "execution_count": 9,
   "outputs": [],
   "source": [
    "import matplotlib.pyplot as plt\n",
    "from pyhdx import PeptideMasterTable, read_dynamx, KineticsFitting\n",
    "import os"
   ],
   "metadata": {
    "collapsed": false,
    "pycharm": {
     "name": "#%%\n",
     "is_executing": false
    }
   }
  },
  {
   "cell_type": "code",
   "execution_count": 2,
   "outputs": [],
   "source": [
    "data_dir = '../tests/test_data'\n",
    "filename = 'ecSecB_apo.csv'\n",
    "fpath = os.path.join(data_dir, filename)"
   ],
   "metadata": {
    "collapsed": false,
    "pycharm": {
     "name": "#%%\n",
     "is_executing": false
    }
   }
  },
  {
   "cell_type": "markdown",
   "source": [
    "We load the sample SecB dataset, apply the control, and split the dataset into ``KineticSeries``."
   ],
   "metadata": {
    "collapsed": false
   }
  },
  {
   "cell_type": "code",
   "execution_count": 3,
   "outputs": [],
   "source": [
    "data = read_dynamx(fpath)\n",
    "master_table = PeptideMasterTable(data, drop_first=1, ignore_prolines=True)\n",
    "master_table.set_control(('Full deuteration control', 0.167))\n",
    "states = master_table.groupby_state()\n",
    "series = states['SecB WT apo']\n",
    "series.make_uniform()"
   ],
   "metadata": {
    "collapsed": false,
    "pycharm": {
     "name": "#%%\n",
     "is_executing": false
    }
   }
  },
  {
   "cell_type": "markdown",
   "source": [
    "From this ``KineticsSeries`` object we can make a ``KineticsFitting`` object. The ``bounds`` parameter defines the upper\n",
    "and lower limit of the kinetic rates which are fitted."
   ],
   "metadata": {
    "collapsed": false
   }
  },
  {
   "cell_type": "code",
   "execution_count": 4,
   "outputs": [
    {
     "data": {
      "text/plain": "(0.04818601436569138, 721.3475781522833)"
     },
     "metadata": {},
     "output_type": "execute_result",
     "execution_count": 4
    }
   ],
   "source": [
    "kf = KineticsFitting(series, bounds=(1e-2, 300))"
   ],
   "metadata": {
    "collapsed": false,
    "pycharm": {
     "name": "#%%\n",
     "is_executing": false
    }
   }
  },
  {
   "cell_type": "markdown",
   "source": [
    "We can now start the first step of fitting, by weighted averaging. The ``RuntimeWarning`` messages are normal and can be ignored."
   ],
   "metadata": {
    "collapsed": false,
    "pycharm": {
     "name": "#%% md\n"
    }
   }
  },
  {
   "cell_type": "code",
   "execution_count": 5,
   "outputs": [
    {
     "name": "stderr",
     "text": [
      "<string>:2: RuntimeWarning: overflow encountered in exp\n",
      "C:\\Users\\jhsmi\\Miniconda3\\envs\\py36_hdx\\lib\\site-packages\\symfit\\core\\objectives.py:321: RuntimeWarning: overflow encountered in square\n",
      "  (dep_var_value - dep_data) ** 2 / sigma ** 2\n",
      "C:\\Users\\jhsmi\\Miniconda3\\envs\\py36_hdx\\lib\\site-packages\\scipy\\optimize\\optimize.py:1985: RuntimeWarning: invalid value encountered in double_scalars\n",
      "  tmp2 = (x - v) * (fx - fw)\n",
      "<string>:2: RuntimeWarning: overflow encountered in exp\n",
      "<string>:2: RuntimeWarning: overflow encountered in exp\n",
      "<string>:2: RuntimeWarning: overflow encountered in exp\n",
      "<string>:2: RuntimeWarning: overflow encountered in exp\n",
      "<string>:2: RuntimeWarning: overflow encountered in exp\n",
      "<string>:2: RuntimeWarning: overflow encountered in exp\n",
      "<string>:2: RuntimeWarning: overflow encountered in exp\n",
      "<string>:2: RuntimeWarning: overflow encountered in exp\n",
      "<string>:2: RuntimeWarning: overflow encountered in exp\n",
      "<string>:2: RuntimeWarning: overflow encountered in exp\n",
      "<string>:2: RuntimeWarning: overflow encountered in exp\n",
      "<string>:2: RuntimeWarning: overflow encountered in exp\n",
      "<string>:2: RuntimeWarning: overflow encountered in exp\n",
      "<string>:2: RuntimeWarning: overflow encountered in exp\n",
      "<string>:2: RuntimeWarning: overflow encountered in exp\n",
      "<string>:2: RuntimeWarning: overflow encountered in exp\n",
      "<string>:2: RuntimeWarning: overflow encountered in exp\n",
      "<string>:2: RuntimeWarning: overflow encountered in exp\n",
      "<string>:2: RuntimeWarning: overflow encountered in exp\n",
      "<string>:2: RuntimeWarning: overflow encountered in exp\n",
      "<string>:2: RuntimeWarning: overflow encountered in exp\n",
      "<string>:2: RuntimeWarning: overflow encountered in exp\n",
      "C:\\Users\\jhsmi\\Miniconda3\\envs\\py36_hdx\\lib\\site-packages\\scipy\\optimize\\minpack.py:162: RuntimeWarning: The iteration is not making good progress, as measured by the \n",
      "  improvement from the last ten iterations.\n",
      "  warnings.warn(msg, RuntimeWarning)\n",
      "<string>:2: RuntimeWarning: overflow encountered in exp\n",
      "<string>:2: RuntimeWarning: overflow encountered in exp\n",
      "<string>:2: RuntimeWarning: overflow encountered in exp\n",
      "<string>:2: RuntimeWarning: overflow encountered in exp\n",
      "<string>:2: RuntimeWarning: overflow encountered in exp\n",
      "<string>:2: RuntimeWarning: overflow encountered in exp\n",
      "<string>:2: RuntimeWarning: overflow encountered in exp\n",
      "<string>:2: RuntimeWarning: overflow encountered in exp\n",
      "<string>:2: RuntimeWarning: overflow encountered in exp\n",
      "<string>:2: RuntimeWarning: overflow encountered in exp\n",
      "<string>:2: RuntimeWarning: overflow encountered in exp\n",
      "<string>:2: RuntimeWarning: overflow encountered in exp\n",
      "<string>:2: RuntimeWarning: overflow encountered in exp\n",
      "<string>:2: RuntimeWarning: overflow encountered in exp\n",
      "<string>:2: RuntimeWarning: overflow encountered in exp\n",
      "<string>:2: RuntimeWarning: overflow encountered in exp\n",
      "<string>:2: RuntimeWarning: overflow encountered in exp\n",
      "<string>:2: RuntimeWarning: overflow encountered in exp\n",
      "<string>:2: RuntimeWarning: overflow encountered in exp\n",
      "<string>:2: RuntimeWarning: invalid value encountered in subtract\n",
      "C:\\Users\\jhsmi\\Miniconda3\\envs\\py36_hdx\\lib\\site-packages\\scipy\\optimize\\optimize.py:1984: RuntimeWarning: invalid value encountered in double_scalars\n",
      "  tmp1 = (x - w) * (fx - fv)\n",
      "C:\\Users\\jhsmi\\Miniconda3\\envs\\py36_hdx\\lib\\site-packages\\scipy\\optimize\\optimize.py:2644: RuntimeWarning: invalid value encountered in double_scalars\n",
      "  if (fx2 - fval) > delta:\n",
      "C:\\Users\\jhsmi\\Miniconda3\\envs\\py36_hdx\\lib\\site-packages\\scipy\\optimize\\optimize.py:2371: RuntimeWarning: invalid value encountered in double_scalars\n",
      "  w = xb - ((xb - xc) * tmp2 - (xb - xa) * tmp1) / denom\n",
      "<string>:2: RuntimeWarning: overflow encountered in exp\n",
      "<string>:2: RuntimeWarning: overflow encountered in exp\n",
      "<string>:2: RuntimeWarning: overflow encountered in exp\n",
      "<string>:2: RuntimeWarning: overflow encountered in exp\n",
      "<string>:2: RuntimeWarning: overflow encountered in exp\n"
     ],
     "output_type": "stream"
    }
   ],
   "source": [
    "result_wt_avg = kf.weighted_avg_fit()"
   ],
   "metadata": {
    "collapsed": false,
    "pycharm": {
     "name": "#%%\n",
     "is_executing": false
    }
   }
  },
  {
   "cell_type": "markdown",
   "source": [
    "The return value is a ``KineticsFitResult`` object. This object has a list of models, intervals in withing the protein \n",
    "sequence to which these models apply, and their corresponding ``symfit`` fit result with parameter values. The effective \n",
    "exchange rate can be extracted, as well as other fit parameters, from this object:"
   ],
   "metadata": {
    "collapsed": false,
    "pycharm": {
     "name": "#%% md\n"
    }
   }
  },
  {
   "cell_type": "code",
   "execution_count": 7,
   "outputs": [
    {
     "data": {
      "text/plain": "('r_number', 'rate', 'tau1', 'tau2', 'r')"
     },
     "metadata": {},
     "output_type": "execute_result",
     "execution_count": 7
    }
   ],
   "source": [
    "output = result_wt_avg.get_output(['rate', 'tau1', 'tau2', 'r'])\n",
    "output.dtype.names"
   ],
   "metadata": {
    "collapsed": false,
    "pycharm": {
     "name": "#%%\n",
     "is_executing": false
    }
   }
  },
  {
   "cell_type": "code",
   "execution_count": 12,
   "outputs": [
    {
     "data": {
      "text/plain": "Text(0, 0.5, 'Rate (min⁻¹)')"
     },
     "metadata": {},
     "output_type": "execute_result",
     "execution_count": 12
    },
    {
     "data": {
      "text/plain": "<Figure size 432x288 with 1 Axes>",
      "image/png": "[encoded data removed]"
     },
     "metadata": {
      "needs_background": "light"
     },
     "output_type": "display_data"
    }
   ],
   "source": [
    "fig, ax = plt.subplots()\n",
    "ax.set_yscale('log')\n",
    "ax.scatter(output['r_number'], output['rate'])\n",
    "ax.set_xlabel('Residue number')\n",
    "ax.set_ylabel('Rate (min⁻¹)')"
   ],
   "metadata": {
    "collapsed": false,
    "pycharm": {
     "name": "#%%\n",
     "is_executing": false
    }
   }
  },
  {
   "cell_type": "markdown",
   "source": [
    "We can now use the weighted averaging fitted result as initial guesses for the global fitting step. This also returns a\n",
    "``KineticsFitResult`` object but with different intervals, models and results."
   ],
   "metadata": {
    "collapsed": false,
    "pycharm": {
     "name": "#%% md\n"
    }
   }
  },
  {
   "cell_type": "code",
   "execution_count": 13,
   "outputs": [
    {
     "name": "stdout",
     "text": [
      "0.08739605726449762 10.624450399899168 0.5390408293856367\n",
      "0.15741716815754803 94.3300789372067 0.6662807787263303\n",
      "0.1251078997739299 14.529645257893016 0.6828811998543098\n",
      "0.13612172908801146 69.14071952937164 0.74101979314706\n",
      "0.07877468610456706 13.698400966510896 0.7083220143610058\n",
      "0.0645199593645974 124.11271116125384 0.582381801364878\n",
      "0.08048601454648108 184.50148268368898 0.6031129353852844\n",
      "0.2227854245998091 99.94107683860643 0.46866561185738903\n",
      "0.1146170058266307 99.97283574059566 0.5821630765636158\n",
      "6.649553292719979e-13 362.0106592161609 0.13783422097876236\n",
      "0.06738409824897662 4.179094898439537 0.8068150255199963\n",
      "0.45408136082630124 213.7649337403786 0.16600601353843497\n",
      "0.3238602433320691 239.60068162943355 0.13190491526753081\n",
      "0.09529337886272993 48.731292071563445 0.4574148425746736\n",
      "0.0760985430121896 64.44368928070202 0.7854708547799438\n",
      "0.018634505954273628 72.90001356557988 0.9\n"
     ],
     "output_type": "stream"
    }
   ],
   "source": [
    "result_global = kf.global_fit(output)"
   ],
   "metadata": {
    "collapsed": false,
    "pycharm": {
     "name": "#%%\n",
     "is_executing": false
    }
   }
  },
  {
   "cell_type": "code",
   "execution_count": 15,
   "outputs": [
    {
     "data": {
      "text/plain": "Text(0, 0.5, 'Rate (min⁻¹)')"
     },
     "metadata": {},
     "output_type": "execute_result",
     "execution_count": 15
    },
    {
     "data": {
      "text/plain": "<Figure size 432x288 with 1 Axes>",
      "image/png": "[encoded data removed]"
     },
     "metadata": {
      "needs_background": "light"
     },
     "output_type": "display_data"
    }
   ],
   "source": [
    "output_global = result_global.get_output(['rate', 'tau1', 'tau2', 'r'])\n",
    "fig, ax = plt.subplots()\n",
    "ax.set_yscale('log')\n",
    "ax.scatter(output_global['r_number'], output_global['rate'])\n",
    "ax.set_xlabel('Residue number')\n",
    "ax.set_ylabel('Rate (min⁻¹)')"
   ],
   "metadata": {
    "collapsed": false,
    "pycharm": {
     "name": "#%%\n",
     "is_executing": false
    }
   }
  },
  {
   "cell_type": "markdown",
   "source": [
    "## High-performance fitting with Dask\n",
    "\n",
    "Although fitting of a single medium sized protein will only take minutes on a typical computer, processing many datasets \n",
    "which cover many peptides can take long time. Therefore pyHDX supports parallel fitting through the parallel computing \n",
    "library ``Dask``. This allows fitting to be done in parallel or on a remote high-performance machine, thereby significantly\n",
    "speeding up the fitting process. The prerequisite for parallel fitting is that the fitting problem can be split in \n",
    "independent tasks. Weighted averaging fitting can be split into many subtasks by default as each block of residues is\n",
    "fitted separately. Parallelization of global fitting depends on the presence of regions of no coverage which split the\n",
    "fitting problem into subproblems.\n",
    "\n",
    "Parallel fitting in pyHDX uses the python 3.6+ ``async/await`` syntax together with an \n",
    "[asynchronous](https://distributed.dask.org/en/latest/asynchronous.html) ``dask`` client.  "
   ],
   "metadata": {
    "collapsed": false,
    "pycharm": {
     "name": "#%% md\n"
    }
   }
  },
  {
   "cell_type": "code",
   "execution_count": 16,
   "outputs": [],
   "source": [
    "from dask.distributed import LocalCluster, Client\n",
    "import asyncio"
   ],
   "metadata": {
    "collapsed": false,
    "pycharm": {
     "name": "#%%\n",
     "is_executing": false
    }
   }
  },
  {
   "cell_type": "markdown",
   "source": [
    "First we need a ``dask`` cluster, either we connect to an existing cluster or we create a local cluster. "
   ],
   "metadata": {
    "collapsed": false,
    "pycharm": {
     "name": "#%% md\n"
    }
   }
  },
  {
   "cell_type": "code",
   "execution_count": 20,
   "outputs": [
    {
     "name": "stderr",
     "text": [
      "C:\\Users\\jhsmi\\Miniconda3\\envs\\py36_hdx\\lib\\site-packages\\distributed\\node.py:155: UserWarning: Port 8787 is already in use.\n",
      "Perhaps you already have a cluster running?\n",
      "Hosting the HTTP server on port 53916 instead\n",
      "  http_address[\"port\"], self.http_server.port\n"
     ],
     "output_type": "stream"
    },
    {
     "data": {
      "text/plain": "'tcp://127.0.0.1:53919'"
     },
     "metadata": {},
     "output_type": "execute_result",
     "execution_count": 20
    }
   ],
   "source": [
    "cluster = LocalCluster(n_workers=8)\n",
    "cluster.scheduler_address\n"
   ],
   "metadata": {
    "collapsed": false,
    "pycharm": {
     "name": "#%%\n",
     "is_executing": false
    }
   }
  },
  {
   "cell_type": "markdown",
   "source": [
    "By passing the cluster's scheduler address to a ``KineticsFitting`` object we can use it's ``async`` methods to do\n",
    "asynchronous fitting. "
   ],
   "metadata": {
    "collapsed": false,
    "pycharm": {
     "name": "#%% md\n"
    }
   }
  },
  {
   "cell_type": "code",
   "execution_count": 25,
   "outputs": [],
   "source": [
    "kf_async = KineticsFitting(series, cluster=cluster.scheduler_address, bounds=(1e-2, 300))"
   ],
   "metadata": {
    "collapsed": false,
    "pycharm": {
     "name": "#%%\n",
     "is_executing": false
    }
   }
  },
  {
   "cell_type": "markdown",
   "source": [
    "In jupyter notebooks, the ``async`` fitting methods can be directly ``await``ed"
   ],
   "metadata": {
    "collapsed": false,
    "pycharm": {
     "name": "#%% md\n"
    }
   }
  },
  {
   "cell_type": "code",
   "execution_count": 26,
   "outputs": [],
   "source": [
    "async_result_wt_avg = await kf_async.weighted_avg_fit_async()\n",
    "async_output_wt_avg = async_result_wt_avg.get_output(['rate', 'tau', 'tau1', 'tau2', 'r'])"
   ],
   "metadata": {
    "collapsed": false,
    "pycharm": {
     "name": "#%%\n",
     "is_executing": false
    }
   }
  },
  {
   "cell_type": "code",
   "execution_count": 28,
   "outputs": [
    {
     "name": "stdout",
     "text": [
      "0.08749214424847152 10.590708398280555 0.5404435975613273\n",
      "0.15950127160296868 96.25823129063477 0.666827876549952\n",
      "0.13754938662474459 15.940432249816794 0.6982121656674496\n",
      "0.1341949120721364 68.65282355372341 0.7405116836295967\n",
      "0.07958552009506326 13.886172120194672 0.7095206792604312\n",
      "0.0645199593645974 124.11271116125384 0.582381801364878\n",
      "0.08048601454648108 184.50148268368898 0.6031129353852844\n",
      "0.2200942415457905 99.93554305019961 0.47087017972302997\n",
      "0.11390865145236706 99.9677802173087 0.58056055750549\n",
      "6.649553292719979e-13 362.0106592161609 0.13783422097876236\n",
      "0.06739198713149941 4.231733051222527 0.8072529705941432\n",
      "0.45408136082630124 213.7649337403786 0.16600601353843497\n",
      "0.3238602433320691 239.60068162943355 0.13190491526753081\n",
      "0.09507698655070929 49.184011637089945 0.4573574046397223\n",
      "0.0760985430121896 64.44368928070202 0.7854708547799438\n",
      "0.01177101738050812 72.11165195772017 0.9\n"
     ],
     "output_type": "stream"
    }
   ],
   "source": [
    "async_result_global = await kf_async.global_fit_async(async_output_wt_avg)\n"
   ],
   "metadata": {
    "collapsed": false,
    "pycharm": {
     "name": "#%%\n",
     "is_executing": false
    }
   }
  },
  {
   "cell_type": "code",
   "execution_count": 29,
   "outputs": [],
   "source": [
    "async_output_global = async_result_global.get_output(['rate', 'tau', 'tau1', 'tau2', 'r'])"
   ],
   "metadata": {
    "collapsed": false,
    "pycharm": {
     "name": "#%%\n",
     "is_executing": false
    }
   }
  },
  {
   "cell_type": "markdown",
   "source": [
    "We can verify that this produces the same result as the concurrent procedure."
   ],
   "metadata": {
    "collapsed": false
   }
  },
  {
   "cell_type": "code",
   "execution_count": 30,
   "outputs": [
    {
     "data": {
      "text/plain": "Text(0, 0.5, 'Rate (min⁻¹)')"
     },
     "metadata": {},
     "output_type": "execute_result",
     "execution_count": 30
    },
    {
     "data": {
      "text/plain": "<Figure size 432x288 with 1 Axes>",
      "image/png": "[encoded data removed]"
     },
     "metadata": {
      "needs_background": "light"
     },
     "output_type": "display_data"
    }
   ],
   "source": [
    "fig, ax = plt.subplots()\n",
    "ax.set_yscale('log')\n",
    "ax.scatter(async_output_wt_avg['r_number'], async_output_wt_avg['rate'])\n",
    "ax.scatter(async_output_global['r_number'], async_output_global['rate'])\n",
    "ax.set_xlabel('Residue number')\n",
    "ax.set_ylabel('Rate (min⁻¹)')\n",
    "\n",
    "\n",
    "\n",
    "\n"
   ],
   "metadata": {
    "collapsed": false,
    "pycharm": {
     "name": "#%%\n",
     "is_executing": false
    }
   }
  }
 ],
 "metadata": {
  "kernelspec": {
   "name": "conda-env-py36_hdx-py",
   "language": "python",
   "display_name": "Python [conda env:py36_hdx]"
  },
  "language_info": {
   "codemirror_mode": {
    "name": "ipython",
    "version": 2
   },
   "file_extension": ".py",
   "mimetype": "text/x-python",
   "name": "python",
   "nbconvert_exporter": "python",
   "pygments_lexer": "ipython2",
   "version": "2.7.6"
  },
  "pycharm": {
   "stem_cell": {
    "cell_type": "raw",
    "source": [],
    "metadata": {
     "collapsed": false
    }
   }
  }
 },
 "nbformat": 4,
 "nbformat_minor": 0
}
