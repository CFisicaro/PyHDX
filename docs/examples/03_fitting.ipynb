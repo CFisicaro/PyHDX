{
 "cells": [
  {
   "cell_type": "markdown",
   "source": [
    "# Fitting of ΔGs"
   ],
   "metadata": {
    "collapsed": false,
    "pycharm": {
     "name": "#%% md\n"
    }
   }
  },
  {
   "cell_type": "code",
   "execution_count": 1,
   "outputs": [],
   "source": [
    "import matplotlib.pyplot as plt\n",
    "from pyhdx import PeptideMasterTable, read_dynamx, HDXMeasurement\n",
    "from pyhdx.fitting import fit_rates_half_time_interpolate, fit_rates_weighted_average, fit_gibbs_global\n",
    "from pathlib import Path\n",
    "import numpy as np\n",
    "from dask.distributed import Client"
   ],
   "metadata": {
    "collapsed": false,
    "pycharm": {
     "name": "#%%\n"
    }
   }
  },
  {
   "cell_type": "markdown",
   "source": [
    "We load the sample SecB dataset, apply the control, and create an ``HDXMeasurement`` object."
   ],
   "metadata": {
    "collapsed": false
   }
  },
  {
   "cell_type": "code",
   "execution_count": 2,
   "outputs": [],
   "source": [
    "fpath = Path() / '..' / '..' / 'tests' / 'test_data' / 'ecSecB_apo.csv'\n",
    "data = read_dynamx(fpath)\n",
    "master_table = PeptideMasterTable(data, drop_first=1, ignore_prolines=True)\n",
    "master_table.set_control(('Full deuteration control', 0.167*60))\n",
    "state_data = master_table.get_state('SecB WT apo')\n",
    "hdxm = HDXMeasurement(state_data, temperature=303.15, pH=8.)"
   ],
   "metadata": {
    "collapsed": false,
    "pycharm": {
     "name": "#%%\n"
    }
   }
  },
  {
   "cell_type": "markdown",
   "source": [
    "The first step is to obtain initial guesses for the observed rate of D-exchange.\n",
    "By determining the timepoint at which 0.5 RFU (relative fractional uptake) is reached, and subsequently converting to rate,\n",
    "a rough estimate of exchange rate per residue can be obtained. Here, RFU values are mapped from peptides to individual\n",
    "residues by weighted averaging (where the weight is the inverse of peptide length)"
   ],
   "metadata": {
    "collapsed": false
   }
  },
  {
   "cell_type": "code",
   "execution_count": 3,
   "outputs": [
    {
     "name": "stderr",
     "output_type": "stream",
     "text": [
      "C:\\Users\\jhsmi\\pp\\PyHDX\\pyhdx\\models.py:615: RuntimeWarning: invalid value encountered in true_divide\n",
      "  return self.Z / np.sum(self.Z, axis=0)[np.newaxis, :]\n"
     ]
    },
    {
     "data": {
      "text/plain": "<pyhdx.models.Protein at 0x196c5b28640>",
      "text/html": "<div>\n<style scoped>\n    .dataframe tbody tr th:only-of-type {\n        vertical-align: middle;\n    }\n\n    .dataframe tbody tr th {\n        vertical-align: top;\n    }\n\n    .dataframe thead th {\n        text-align: right;\n    }\n</style>\n<table border=\"1\" class=\"dataframe\">\n  <thead>\n    <tr style=\"text-align: right;\">\n      <th></th>\n      <th>rate</th>\n    </tr>\n    <tr>\n      <th>r_number</th>\n      <th></th>\n    </tr>\n  </thead>\n  <tbody>\n    <tr>\n      <th>10</th>\n      <td>0.054455</td>\n    </tr>\n    <tr>\n      <th>11</th>\n      <td>0.054455</td>\n    </tr>\n    <tr>\n      <th>12</th>\n      <td>0.035301</td>\n    </tr>\n    <tr>\n      <th>13</th>\n      <td>0.035301</td>\n    </tr>\n    <tr>\n      <th>14</th>\n      <td>0.035301</td>\n    </tr>\n    <tr>\n      <th>...</th>\n      <td>...</td>\n    </tr>\n    <tr>\n      <th>151</th>\n      <td>0.136605</td>\n    </tr>\n    <tr>\n      <th>152</th>\n      <td>0.136460</td>\n    </tr>\n    <tr>\n      <th>153</th>\n      <td>0.136460</td>\n    </tr>\n    <tr>\n      <th>154</th>\n      <td>0.136460</td>\n    </tr>\n    <tr>\n      <th>155</th>\n      <td>0.135486</td>\n    </tr>\n  </tbody>\n</table>\n<p>146 rows × 1 columns</p>\n</div>"
     },
     "execution_count": 3,
     "metadata": {},
     "output_type": "execute_result"
    }
   ],
   "source": [
    "fr_half_time = fit_rates_half_time_interpolate(hdxm)\n",
    "fr_half_time.output"
   ],
   "metadata": {
    "collapsed": false,
    "pycharm": {
     "name": "#%%\n"
    }
   }
  },
  {
   "cell_type": "markdown",
   "source": [
    "A more accurate result can be obtained by fitting the per-residue/timepoint RFU values to a biexponential association curve.\n",
    "This process is more time consuming and can optionally be processed in parallel by Dask."
   ],
   "metadata": {
    "collapsed": false,
    "pycharm": {
     "name": "#%% md\n"
    }
   }
  },
  {
   "cell_type": "code",
   "execution_count": 4,
   "outputs": [
    {
     "name": "stderr",
     "output_type": "stream",
     "text": [
      "C:\\Users\\jhsmi\\pp\\PyHDX\\pyhdx\\models.py:615: RuntimeWarning: invalid value encountered in true_divide\n",
      "  return self.Z / np.sum(self.Z, axis=0)[np.newaxis, :]\n"
     ]
    }
   ],
   "source": [
    "client = Client()\n",
    "fr_wt_avg = fit_rates_weighted_average(hdxm, client=client)"
   ],
   "metadata": {
    "collapsed": false,
    "pycharm": {
     "name": "#%%\n"
    }
   }
  },
  {
   "cell_type": "markdown",
   "source": [
    "The return value is a ``KineticsFitResult`` object. This object has a list of models, intervals in withing the protein \n",
    "sequence to which these models apply, and their corresponding ``symfit`` fit result with parameter values. The effective \n",
    "exchange rate (units $s^{-1}$) can be extracted, as well as other fit parameters, from this object:"
   ],
   "metadata": {
    "collapsed": false,
    "pycharm": {
     "name": "#%% md\n"
    }
   }
  },
  {
   "cell_type": "code",
   "execution_count": 5,
   "outputs": [
    {
     "name": "stderr",
     "output_type": "stream",
     "text": [
      "C:\\Users\\jhsmi\\pp\\PyHDX\\pyhdx\\fit_models.py:224: RuntimeWarning: overflow encountered in exp\n",
      "  t = np.exp(t_log)\n"
     ]
    },
    {
     "data": {
      "text/plain": "<pyhdx.models.Protein at 0x196cf9544c0>",
      "text/html": "<div>\n<style scoped>\n    .dataframe tbody tr th:only-of-type {\n        vertical-align: middle;\n    }\n\n    .dataframe tbody tr th {\n        vertical-align: top;\n    }\n\n    .dataframe thead th {\n        text-align: right;\n    }\n</style>\n<table border=\"1\" class=\"dataframe\">\n  <thead>\n    <tr style=\"text-align: right;\">\n      <th></th>\n      <th>rate</th>\n      <th>k1</th>\n      <th>k2</th>\n      <th>r</th>\n    </tr>\n    <tr>\n      <th>r_number</th>\n      <th></th>\n      <th></th>\n      <th></th>\n      <th></th>\n    </tr>\n  </thead>\n  <tbody>\n    <tr>\n      <th>10</th>\n      <td>0.064653</td>\n      <td>0.187059</td>\n      <td>0.001470</td>\n      <td>0.569994</td>\n    </tr>\n    <tr>\n      <th>11</th>\n      <td>0.064653</td>\n      <td>0.187059</td>\n      <td>0.001470</td>\n      <td>0.569994</td>\n    </tr>\n    <tr>\n      <th>12</th>\n      <td>0.055054</td>\n      <td>0.190494</td>\n      <td>0.001567</td>\n      <td>0.540090</td>\n    </tr>\n    <tr>\n      <th>13</th>\n      <td>0.055054</td>\n      <td>0.190494</td>\n      <td>0.001567</td>\n      <td>0.540090</td>\n    </tr>\n    <tr>\n      <th>14</th>\n      <td>0.055054</td>\n      <td>0.190494</td>\n      <td>0.001567</td>\n      <td>0.540090</td>\n    </tr>\n    <tr>\n      <th>...</th>\n      <td>...</td>\n      <td>...</td>\n      <td>...</td>\n      <td>...</td>\n    </tr>\n    <tr>\n      <th>151</th>\n      <td>0.828595</td>\n      <td>0.843758</td>\n      <td>0.000235</td>\n      <td>0.987547</td>\n    </tr>\n    <tr>\n      <th>152</th>\n      <td>2.768783</td>\n      <td>2.826372</td>\n      <td>0.000218</td>\n      <td>0.985887</td>\n    </tr>\n    <tr>\n      <th>153</th>\n      <td>2.768783</td>\n      <td>2.826372</td>\n      <td>0.000218</td>\n      <td>0.985887</td>\n    </tr>\n    <tr>\n      <th>154</th>\n      <td>2.768783</td>\n      <td>2.826372</td>\n      <td>0.000218</td>\n      <td>0.985887</td>\n    </tr>\n    <tr>\n      <th>155</th>\n      <td>0.574753</td>\n      <td>0.590223</td>\n      <td>0.000302</td>\n      <td>0.981839</td>\n    </tr>\n  </tbody>\n</table>\n<p>146 rows × 4 columns</p>\n</div>"
     },
     "execution_count": 5,
     "metadata": {},
     "output_type": "execute_result"
    }
   ],
   "source": [
    "fr_wt_avg.output"
   ],
   "metadata": {
    "collapsed": false,
    "pycharm": {
     "name": "#%%\n"
    }
   }
  },
  {
   "cell_type": "code",
   "execution_count": 6,
   "outputs": [
    {
     "data": {
      "text/plain": "<matplotlib.legend.Legend at 0x196d1e45550>"
     },
     "execution_count": 6,
     "metadata": {},
     "output_type": "execute_result"
    },
    {
     "data": {
      "text/plain": "<Figure size 432x288 with 1 Axes>",
      "image/png": "[encoded data removed]"
     },
     "metadata": {
      "needs_background": "light"
     },
     "output_type": "display_data"
    }
   ],
   "source": [
    "fig, ax = plt.subplots()\n",
    "ax.set_yscale('log')\n",
    "ax.scatter(fr_half_time.output.index, fr_half_time.output['rate'], label='half-time')\n",
    "ax.scatter(fr_wt_avg.output.index, fr_wt_avg.output['rate'], label='fit')\n",
    "\n",
    "ax.set_xlabel('Residue number')\n",
    "ax.set_ylabel('Rate (s⁻¹)')\n",
    "ax.legend()\n"
   ],
   "metadata": {
    "collapsed": false,
    "pycharm": {
     "name": "#%%\n"
    }
   }
  },
  {
   "cell_type": "markdown",
   "source": [
    "We can now use the guessed rates to obtain guesses for the Gibbs free energy. Units of Gibbs free energy are J/mol."
   ],
   "metadata": {
    "collapsed": false,
    "pycharm": {
     "name": "#%% md\n"
    }
   }
  },
  {
   "cell_type": "code",
   "execution_count": 7,
   "outputs": [
    {
     "data": {
      "text/plain": "r_number\n10     19765.736199\n11     19301.237211\n12     20635.398598\n13     16860.539218\n14     18951.649654\n           ...     \n151    11573.754525\n152     9064.889494\n153    11502.744868\n154    11783.079284\n155     1390.996025\nLength: 146, dtype: float64"
     },
     "execution_count": 7,
     "metadata": {},
     "output_type": "execute_result"
    }
   ],
   "source": [
    "gibbs_guess = hdxm.guess_deltaG(fr_wt_avg.output['rate'])\n",
    "gibbs_guess"
   ],
   "metadata": {
    "collapsed": false,
    "pycharm": {
     "name": "#%%\n"
    }
   }
  },
  {
   "cell_type": "markdown",
   "source": [
    "To perform the global fit (all peptides and timepoints) use ``fit_gibbs_global``. The number of epochs is set to 1000\n",
    "here for demonstration but for actually fitting the values should be ~100000."
   ],
   "metadata": {
    "collapsed": false
   }
  },
  {
   "cell_type": "code",
   "execution_count": 8,
   "outputs": [
    {
     "name": "stderr",
     "output_type": "stream",
     "text": [
      "100%|██████████| 1000/1000 [00:00<00:00, 1501.50it/s]\n"
     ]
    },
    {
     "data": {
      "text/plain": "<pyhdx.models.Protein at 0x196d172b310>",
      "text/html": "<div>\n<style scoped>\n    .dataframe tbody tr th:only-of-type {\n        vertical-align: middle;\n    }\n\n    .dataframe tbody tr th {\n        vertical-align: top;\n    }\n\n    .dataframe thead th {\n        text-align: right;\n    }\n</style>\n<table border=\"1\" class=\"dataframe\">\n  <thead>\n    <tr style=\"text-align: right;\">\n      <th></th>\n      <th>sequence</th>\n      <th>_deltaG</th>\n      <th>deltaG</th>\n      <th>pfact</th>\n      <th>k_obs</th>\n      <th>covariance</th>\n    </tr>\n    <tr>\n      <th>r_number</th>\n      <th></th>\n      <th></th>\n      <th></th>\n      <th></th>\n      <th></th>\n      <th></th>\n    </tr>\n  </thead>\n  <tbody>\n    <tr>\n      <th>10</th>\n      <td>T</td>\n      <td>19774.898348</td>\n      <td>19774.898348</td>\n      <td>2554.300985</td>\n      <td>0.064418</td>\n      <td>1.410011e+03</td>\n    </tr>\n    <tr>\n      <th>11</th>\n      <td>F</td>\n      <td>19352.119161</td>\n      <td>19352.119161</td>\n      <td>2159.861964</td>\n      <td>0.063361</td>\n      <td>1.404360e+03</td>\n    </tr>\n    <tr>\n      <th>12</th>\n      <td>Q</td>\n      <td>20666.254133</td>\n      <td>20666.254133</td>\n      <td>3637.937601</td>\n      <td>0.054384</td>\n      <td>7.865936e+02</td>\n    </tr>\n    <tr>\n      <th>13</th>\n      <td>I</td>\n      <td>16947.388328</td>\n      <td>16947.388328</td>\n      <td>831.924534</td>\n      <td>0.053192</td>\n      <td>7.820413e+02</td>\n    </tr>\n    <tr>\n      <th>14</th>\n      <td>Q</td>\n      <td>19010.515560</td>\n      <td>19010.515560</td>\n      <td>1886.108663</td>\n      <td>0.053784</td>\n      <td>7.841180e+02</td>\n    </tr>\n    <tr>\n      <th>...</th>\n      <td>...</td>\n      <td>...</td>\n      <td>...</td>\n      <td>...</td>\n      <td>...</td>\n      <td>...</td>\n    </tr>\n    <tr>\n      <th>151</th>\n      <td>E</td>\n      <td>11573.871708</td>\n      <td>11573.871708</td>\n      <td>98.675993</td>\n      <td>0.828557</td>\n      <td>1.161598e+04</td>\n    </tr>\n    <tr>\n      <th>152</th>\n      <td>H</td>\n      <td>9092.461907</td>\n      <td>9092.461907</td>\n      <td>36.868667</td>\n      <td>2.739456</td>\n      <td>5.330469e+07</td>\n    </tr>\n    <tr>\n      <th>153</th>\n      <td>Q</td>\n      <td>11502.744868</td>\n      <td>11502.744868</td>\n      <td>95.930376</td>\n      <td>2.768783</td>\n      <td>6.010136e+07</td>\n    </tr>\n    <tr>\n      <th>154</th>\n      <td>D</td>\n      <td>11755.506870</td>\n      <td>11755.506870</td>\n      <td>106.049291</td>\n      <td>2.798953</td>\n      <td>6.907413e+07</td>\n    </tr>\n    <tr>\n      <th>155</th>\n      <td>A</td>\n      <td>1405.431942</td>\n      <td>1405.431942</td>\n      <td>1.746465</td>\n      <td>0.572666</td>\n      <td>7.224063e+03</td>\n    </tr>\n  </tbody>\n</table>\n<p>146 rows × 6 columns</p>\n</div>"
     },
     "execution_count": 8,
     "metadata": {},
     "output_type": "execute_result"
    }
   ],
   "source": [
    "gibbs_result = fit_gibbs_global(hdxm, gibbs_guess, epochs=1000)\n",
    "gibbs_output = gibbs_result.output\n",
    "gibbs_output"
   ],
   "metadata": {
    "collapsed": false,
    "pycharm": {
     "name": "#%%\n"
    }
   }
  },
  {
   "cell_type": "markdown",
   "source": [
    "Along with ΔG the fit result returns covariances of ΔG and protection factors. The column `k_obs` is the observed rate of\n",
    "exchange without taking into account the intrinsic exchange rate of each residue. If users want to obtain a result truly\n",
    "independent of the intrinsic rate of exchange, the regularization value r1 should be set to zero (as this works on ΔG,\n",
    "which is obtained by taking intrinsic rate of exchange into account) and users should provide their own initial guesses\n",
    "for ΔG (as determination of initial guesses also uses intrinsic rates of exchange)."
   ],
   "metadata": {
    "collapsed": false,
    "pycharm": {
     "name": "#%% md\n"
    }
   }
  },
  {
   "cell_type": "code",
   "execution_count": 9,
   "outputs": [
    {
     "data": {
      "text/plain": "<Figure size 432x288 with 1 Axes>",
      "image/png": "[encoded data removed]"
     },
     "metadata": {
      "needs_background": "light"
     },
     "output_type": "display_data"
    }
   ],
   "source": [
    "fig, ax = plt.subplots()\n",
    "#ax.set_yscale('log')\n",
    "ax.scatter(gibbs_output.index, gibbs_output['deltaG']*1e-3)\n",
    "ax.set_xlabel('Residue number')\n",
    "ax.set_ylabel('ΔG (kJ/mol)')\n",
    "None\n"
   ],
   "metadata": {
    "collapsed": false,
    "pycharm": {
     "name": "#%%\n"
    }
   }
  },
  {
   "cell_type": "markdown",
   "source": [
    "#### Number of epochs and overfitting\n",
    "\n",
    "The returned fit result object also has information on the losses of each epoch of the fittng process. These are\n",
    "stored as a `pd.DataFrame` in the `losses` attribute. During a successful fitting run, the losses should decrease sharply\n",
    "and then flatten out."
   ],
   "metadata": {
    "collapsed": false
   }
  },
  {
   "cell_type": "code",
   "execution_count": 10,
   "outputs": [
    {
     "data": {
      "text/plain": "<AxesSubplot:xlabel='epoch'>"
     },
     "execution_count": 10,
     "metadata": {},
     "output_type": "execute_result"
    },
    {
     "data": {
      "text/plain": "<Figure size 432x288 with 0 Axes>"
     },
     "metadata": {},
     "output_type": "display_data"
    },
    {
     "data": {
      "text/plain": "<Figure size 432x288 with 1 Axes>",
      "image/png": "[encoded data removed]"
     },
     "metadata": {
      "needs_background": "light"
     },
     "output_type": "display_data"
    }
   ],
   "source": [
    "plt.figure()\n",
    "gibbs_result.losses.plot()"
   ],
   "metadata": {
    "collapsed": false,
    "pycharm": {
     "name": "#%%\n"
    }
   }
  },
  {
   "cell_type": "markdown",
   "source": [
    "In the figure above, `mse_loss` is the loss resulting from differences in calculated D-uptake and measured D-uptake\n",
    "(mean squared error). The `reg_1` is the loss resulting from the regualizer.\n",
    "\n",
    "If the losses do not decrease, this is likely due to a too low number of epochs or a too low learning rate.\n",
    "Lets tune the fit parameters such that we obtain the desired result."
   ],
   "metadata": {
    "collapsed": false,
    "pycharm": {
     "name": "#%% md\n"
    }
   }
  },
  {
   "cell_type": "code",
   "execution_count": 11,
   "outputs": [
    {
     "name": "stderr",
     "output_type": "stream",
     "text": [
      "100%|██████████| 40000/40000 [00:27<00:00, 1455.32it/s]\n"
     ]
    }
   ],
   "source": [
    "gibbs_result_updated = fit_gibbs_global(hdxm, gibbs_guess, epochs=40000)"
   ],
   "metadata": {
    "collapsed": false,
    "pycharm": {
     "name": "#%%\n"
    }
   }
  },
  {
   "cell_type": "code",
   "execution_count": 12,
   "outputs": [
    {
     "data": {
      "text/plain": "Text(0, 0.5, 'Loss')"
     },
     "execution_count": 12,
     "metadata": {},
     "output_type": "execute_result"
    },
    {
     "data": {
      "text/plain": "<Figure size 1008x360 with 2 Axes>",
      "image/png": "[encoded data removed]"
     },
     "metadata": {
      "needs_background": "light"
     },
     "output_type": "display_data"
    }
   ],
   "source": [
    "fig, axes = plt.subplots(ncols=2, figsize=(14, 5))\n",
    "axes[0].scatter(gibbs_result_updated.output.index, gibbs_result_updated.output['deltaG']*1e-3)\n",
    "axes[0].set_xlabel('Residue number')\n",
    "axes[0].set_ylabel('ΔG (kJ/mol)')\n",
    "gibbs_result_updated.losses.plot(ax=axes[1])\n",
    "axes[1].set_xlabel('Epochs')\n",
    "axes[1].set_ylabel('Loss')"
   ],
   "metadata": {
    "collapsed": false,
    "pycharm": {
     "name": "#%%\n"
    }
   }
  },
  {
   "cell_type": "markdown",
   "source": [
    "By increasing the learning rate and the number of epochs, our result improves as the final MSE loss is lower.\n",
    "\n",
    "With `stop_loss` at 1E-6 and `patience` at 50 (=default), the fitting will not terminate until for 50\n",
    "epochs the progress (loss decrease) has been less than 1E-6.\n",
    "\n",
    "The default value of `stop_loss`  is 1E-5. This will ensure optimization will stop when not enough progress is being made\n",
    "and thereby prevent overfitting. \n",
    "\n",
    "Users can keep track of the ΔG values per epoch by using `Checkpoint` callbacks (See templates/04; advanced/experimental usage).\n"
   ],
   "metadata": {
    "collapsed": false,
    "pycharm": {
     "name": "#%% md\n"
    }
   }
  },
  {
   "cell_type": "code",
   "execution_count": 13,
   "outputs": [
    {
     "name": "stderr",
     "output_type": "stream",
     "text": [
      "100%|██████████| 60000/60000 [00:43<00:00, 1384.86it/s]\n"
     ]
    }
   ],
   "source": [
    "gibbs_result_updated = fit_gibbs_global(hdxm, gibbs_guess, epochs=60000, lr=1e5, stop_loss=1e-6, patience=50)\n"
   ],
   "metadata": {
    "collapsed": false,
    "pycharm": {
     "name": "#%%\n"
    }
   }
  },
  {
   "cell_type": "code",
   "execution_count": 14,
   "outputs": [
    {
     "data": {
      "text/plain": "57.09043167835134"
     },
     "execution_count": 14,
     "metadata": {},
     "output_type": "execute_result"
    }
   ],
   "source": [
    "gibbs_result_updated.regularization_percentage"
   ],
   "metadata": {
    "collapsed": false,
    "pycharm": {
     "name": "#%%\n"
    }
   }
  },
  {
   "cell_type": "code",
   "execution_count": 15,
   "outputs": [
    {
     "data": {
      "text/plain": "Text(0, 0.5, 'Loss')"
     },
     "execution_count": 15,
     "metadata": {},
     "output_type": "execute_result"
    },
    {
     "data": {
      "text/plain": "<Figure size 1008x360 with 3 Axes>",
      "image/png": "[encoded data removed]"
     },
     "metadata": {
      "needs_background": "light"
     },
     "output_type": "display_data"
    }
   ],
   "source": [
    "fig, axes = plt.subplots(ncols=2, figsize=(14, 5))\n",
    "axes[0].scatter(gibbs_result_updated.output.index, gibbs_result_updated.output['deltaG']*1e-3)\n",
    "axes[0].set_xlabel('Residue number')\n",
    "axes[0].set_ylabel('ΔG (kJ/mol)')\n",
    "gibbs_result_updated.losses.plot(ax=axes[1])\n",
    "ax = axes[1].twinx()\n",
    "ax.set_ylabel('R1 percentage')\n",
    "percentage = 100 * gibbs_result_updated.losses['reg_1'] / (gibbs_result_updated.losses.sum(axis=1))\n",
    "ax.plot(percentage, color='k')\n",
    "axes[1].set_xlabel('Epochs')\n",
    "axes[1].set_ylabel('Loss')"
   ],
   "metadata": {
    "collapsed": false,
    "pycharm": {
     "name": "#%%\n"
    }
   }
  },
  {
   "cell_type": "code",
   "execution_count": 16,
   "outputs": [
    {
     "data": {
      "text/plain": "epoch\n1        4.823331\n2        4.821007\n3        4.818298\n4        4.815398\n5        4.812404\n           ...   \n59996    0.406689\n59997    0.406686\n59998    0.406685\n59999    0.406682\n60000    0.406680\nLength: 60000, dtype: float64"
     },
     "execution_count": 16,
     "metadata": {},
     "output_type": "execute_result"
    }
   ],
   "source": [
    "gibbs_result_updated.losses.sum(axis=1)"
   ],
   "metadata": {
    "collapsed": false,
    "pycharm": {
     "name": "#%%\n"
    }
   }
  },
  {
   "cell_type": "markdown",
   "source": [
    "With these settings, the losses and the result become highly influenced by the regularizer `r1`, which dampens the result\n",
    "and removes scatter in ΔG values."
   ],
   "metadata": {
    "collapsed": false,
    "pycharm": {
     "name": "#%% md\n"
    }
   }
  },
  {
   "cell_type": "markdown",
   "source": [
    "#### The choice of regularizer value r1\n",
    "\n",
    "The regularizer `r1` acts between subsequent residues minimizing differences between residues, unless data support\n",
    "these differences. Higher values flatten out the ΔG values along residues, while lower values allow for more\n",
    "variability.\n",
    "\n",
    "The main function of `r1` is to mitigate the non-identifiability problem, where if multiple effective exchange rates (ΔG)\n",
    "values are found within a peptide, it is impossible to know which rate should be assigned to which residue. Among the\n",
    "possible choices, the regularizer `r1` will bias the result towards the choice of rate per residue assignment with the\n",
    "least variability along residues.\n",
    "\n",
    "The 'best' value of r1 depends on the size of the protein and the coverage, (the number/size of peptides). Below is an\n",
    "example of the differences with regularizer values 0.1, 2 and 5.\n",
    "In this dataset, despite the fact that for `r1=2` contribution `reg_1` is 50% of `total_loss`, most features in ΔG are\n",
    "still resolved. In this case, it is recommended to try different values of `r1` (starting low and increasing) and find\n",
    "the optimal value based on the ΔG result and fit metrics (Total mse loss at fit termination, $$\\chi^2$$ per peptide\n",
    "and fit curves per peptide (available in web interface)"
   ],
   "metadata": {
    "collapsed": false,
    "pycharm": {
     "name": "#%% md\n"
    }
   }
  },
  {
   "cell_type": "code",
   "execution_count": null,
   "outputs": [
    {
     "name": "stderr",
     "output_type": "stream",
     "text": [
      " 32%|███▏      | 19147/60000 [00:13<00:29, 1406.90it/s]\n",
      " 36%|███▌      | 21423/60000 [00:15<00:27, 1420.05it/s]"
     ]
    },
    {
     "name": "stdout",
     "output_type": "stream",
     "text": [
      "0.1\n",
      "2\n"
     ]
    }
   ],
   "source": [
    "r1_vals = [0.1, 2, 5]\n",
    "results_dict = {}\n",
    "for r1 in r1_vals:\n",
    "    print(r1)\n",
    "    result = fit_gibbs_global(hdxm, gibbs_guess, epochs=60000, lr=1e5, stop_loss=1e-5, patience=50, r1=r1)\n",
    "    results_dict[r1] = result"
   ],
   "metadata": {
    "collapsed": false,
    "pycharm": {
     "name": "#%%\n",
     "is_executing": true
    }
   }
  },
  {
   "cell_type": "code",
   "execution_count": null,
   "outputs": [],
   "source": [
    "colors = iter(['r', 'b', 'g'])\n",
    "fig, axes = plt.subplots(ncols=2, figsize=(14, 5))\n",
    "for k, v in results_dict.items():\n",
    "    print(v.regularization_percentage)\n",
    "    color = next(colors)\n",
    "    axes[0].scatter(v.output.index, v.output['deltaG']*1e-3, color=color, label=f'r1: {k}')\n",
    "    axes[0].set_xlabel('Residue number')\n",
    "    axes[0].set_ylabel('ΔG (kJ/mol)')\n",
    "    axes[1].plot(v.losses['mse_loss'], color=color)\n",
    "    axes[1].plot(v.losses['reg_1'], color=color, linestyle='--')\n",
    "    axes[1].set_xlabel('Epochs')\n",
    "    axes[1].set_ylabel('Loss')\n",
    "\n",
    "axes[0].legend()"
   ],
   "metadata": {
    "collapsed": false,
    "pycharm": {
     "name": "#%%\n",
     "is_executing": true
    }
   }
  },
  {
   "cell_type": "markdown",
   "source": [
    "#### Fit result covariances\n",
    "\n",
    "Covariances on ΔG are estimated from the Hessian matrix $$\\mathcal{H}$$. This matrix describes the local curvature of $$\\chi^2$$\n",
    "(sum of squared residuals) at each residue for the set of ΔG values obtained from the fit.\n",
    "From the Hessian matrix, covariances are determined by taking the diagonal elements of the square root of the inverse of\n",
    "the negative Hessian ($$\\sqrt{\\left|(-\\mathcal{H})^{-1}_{ii}\\right|}$$).\n",
    "\n",
    "When these covariances are high, the optimization landscape is flat and therefore it presents a higher difficulty to finding\n",
    "the exact minimum. High covariances frequently signal that the obtained ΔG values are at the extreme ends of the time\n",
    "resolution of the experiment. In these regions, the ΔG values found represent an upper or lower limit and in order to\n",
    "improve the ΔG range of the experiment shorter or longer timepoints need to be added.\n",
    "\n",
    "Covariances are stored in the fit result and we can plot these on top of the ΔG values to see which regions are within the\n",
    "range of the experiment."
   ],
   "metadata": {
    "collapsed": false,
    "pycharm": {
     "name": "#%% md\n"
    }
   }
  },
  {
   "cell_type": "code",
   "execution_count": null,
   "outputs": [],
   "source": [
    "\n",
    "colors = iter(['r', 'b', 'g'])\n",
    "fig, ax = plt.subplots(ncols=1, figsize=(14, 5))\n",
    "v = results_dict[2]\n",
    "\n",
    "ax.scatter(v.output.index, v.output['deltaG']*1e-3)\n",
    "ylim = ax.get_ylim()\n",
    "ax.errorbar(v.output.index, v.output['deltaG']*1e-3, yerr=v.output['covariance']*1e-3, linestyle='none', color='k', zorder=-1)\n",
    "ax.set_ylim(*ylim)\n",
    "ax.set_xlabel('Residue number')\n",
    "ax.set_ylabel('ΔG (kJ/mol)')"
   ],
   "metadata": {
    "collapsed": false,
    "pycharm": {
     "name": "#%%\n",
     "is_executing": true
    }
   }
  },
  {
   "cell_type": "markdown",
   "source": [
    "In the graph above, covariances are high at SecB's disordered c-tail, highlighting that ΔG values obtained here represent\n",
    "an upper limit where the actual ΔG values are likely to be lower. Likewise, high ΔG values also show high covariances which\n",
    "can be improved by adding longer D-exposure datapoints.\n",
    "Shorter D-exposure datapoints can be added in principle, but regions with low ΔG are more likely to exchagne via EX1 kinetics,\n",
    "where PyHDX kinetics approximations break down."
   ],
   "metadata": {
    "collapsed": false,
    "pycharm": {
     "name": "#%% md\n"
    }
   }
  },
  {
   "cell_type": "code",
   "execution_count": null,
   "outputs": [],
   "source": [],
   "metadata": {
    "collapsed": false,
    "pycharm": {
     "name": "#%%\n",
     "is_executing": true
    }
   }
  }
 ],
 "metadata": {
  "kernelspec": {
   "name": "conda-env-py38_pyhdx_pn011-py",
   "language": "python",
   "display_name": "Python [conda env:py38_pyhdx_pn011]"
  },
  "language_info": {
   "codemirror_mode": {
    "name": "ipython",
    "version": 2
   },
   "file_extension": ".py",
   "mimetype": "text/x-python",
   "name": "python",
   "nbconvert_exporter": "python",
   "pygments_lexer": "ipython2",
   "version": "2.7.6"
  }
 },
 "nbformat": 4,
 "nbformat_minor": 0
}