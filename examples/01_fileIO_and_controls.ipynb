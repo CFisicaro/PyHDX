{
  "cells": [
    {
      "cell_type": "code",
      "execution_count": 23,
      "metadata": {
        "collapsed": true,
        "pycharm": {
          "is_executing": false
        }
      },
      "outputs": [],
      "source": "from pyhdx import PeptideCSVFile\nfrom pyhdx.fileIO import read_dynamx\nfrom numpy.lib.recfunctions import stack_arrays\n"
    },
    {
      "cell_type": "code",
      "execution_count": 9,
      "outputs": [
        {
          "data": {
            "text/plain": "702"
          },
          "metadata": {},
          "output_type": "execute_result",
          "execution_count": 9
        }
      ],
      "source": "\nfile_path \u003d r\u0027../tests/test_data/ds1.csv\u0027\ndata1 \u003d read_dynamx(file_path)\nlen(data1)",
      "metadata": {
        "pycharm": {
          "metadata": false,
          "name": "#%%\n",
          "is_executing": false
        }
      }
    },
    {
      "cell_type": "markdown",
      "source": "The data from a DynamX file is read with the `read_dynamx` function. Here, a total of 702 peptide entries are found and\nreturned. The data is in fhe form of a numpy structured array with field entries as displayed in the ouptut below. The\n`start` and `end` entries indicate which residues in the protein this particular peptide represents, where the first \nresidue in the protien has index 1, and the `end` entry is inclusive. ",
      "metadata": {
        "pycharm": {
          "metadata": false,
          "name": "#%% md\n",
          "is_executing": false
        }
      }
    },
    {
      "cell_type": "code",
      "execution_count": 13,
      "outputs": [
        {
          "name": "stdout",
          "text": [
            "Protein\nstart\nend\nsequence\nmodification\nfragment\nmax_uptake\nMHP\nstate\nexposure\ncenter\ncenter_sd\nuptake\nuptake_sd\nRT\nRT_sd\n"
          ],
          "output_type": "stream"
        }
      ],
      "source": "for k in data1.dtype.fields.keys():\n    print(k)",
      "metadata": {
        "pycharm": {
          "metadata": false,
          "name": "#%%\n",
          "is_executing": false
        }
      }
    },
    {
      "cell_type": "code",
      "source": "\nfile_path \u003d r\u0027../tests/test_data/ds2.csv\u0027\ndata2 \u003d read_dynamx(file_path)\nlen(data2)",
      "metadata": {
        "pycharm": {
          "metadata": false,
          "name": "#%%\n",
          "is_executing": false
        }
      },
      "execution_count": 8,
      "outputs": [
        {
          "data": {
            "text/plain": "1359"
          },
          "metadata": {},
          "output_type": "execute_result",
          "execution_count": 8
        }
      ]
    },
    {
      "cell_type": "markdown",
      "source": "Multiple datasets can be combined with numpy\u0027s `merge_arrays` function. \n",
      "metadata": {
        "pycharm": {
          "metadata": false,
          "name": "#%% md\n"
        }
      }
    },
    {
      "cell_type": "code",
      "execution_count": 25,
      "outputs": [
        {
          "data": {
            "text/plain": "2061"
          },
          "metadata": {},
          "output_type": "execute_result",
          "execution_count": 25
        }
      ],
      "source": "combined_data \u003d stack_arrays([data1, data2], autoconvert\u003dTrue,)\nlen(combined_data)",
      "metadata": {
        "pycharm": {
          "metadata": false,
          "name": "#%%\n",
          "is_executing": false
        }
      }
    },
    {
      "cell_type": "markdown",
      "source": "The first step is to put the data into a ``PeptideCSVFile`` object. Here, we can specify how many n-terminal amino acids \nto ignore (default \u003d 1), as well as split the data into groups by their `state` or apply control measurements. ",
      "metadata": {
        "pycharm": {
          "metadata": false,
          "name": "#%% md\n"
        }
      }
    },
    {
      "cell_type": "code",
      "execution_count": 26,
      "outputs": [
        {
          "data": {
            "text/plain": "mappingproxy({\u0027Protein\u0027: (dtype(\u0027\u003cU2\u0027), 0),\n              \u0027start\u0027: (dtype(\u0027int32\u0027), 8),\n              \u0027end\u0027: (dtype(\u0027int32\u0027), 12),\n              \u0027sequence\u0027: (dtype(\u0027\u003cU57\u0027), 16),\n              \u0027modification\u0027: (dtype(\u0027\u003cU15\u0027), 244),\n              \u0027fragment\u0027: (dtype(\u0027bool\u0027), 304),\n              \u0027max_uptake\u0027: (dtype(\u0027float64\u0027), 305),\n              \u0027MHP\u0027: (dtype(\u0027float64\u0027), 313),\n              \u0027state\u0027: (dtype(\u0027\u003cU25\u0027), 321),\n              \u0027exposure\u0027: (dtype(\u0027float64\u0027), 421),\n              \u0027center\u0027: (dtype(\u0027float64\u0027), 429),\n              \u0027center_sd\u0027: (dtype(\u0027float64\u0027), 437),\n              \u0027uptake\u0027: (dtype(\u0027float64\u0027), 445),\n              \u0027uptake_sd\u0027: (dtype(\u0027float64\u0027), 453),\n              \u0027RT\u0027: (dtype(\u0027float64\u0027), 461),\n              \u0027RT_sd\u0027: (dtype(\u0027float64\u0027), 469)})"
          },
          "metadata": {},
          "output_type": "execute_result",
          "execution_count": 26
        }
      ],
      "source": "combined_data.dtype.fields\n",
      "metadata": {
        "pycharm": {
          "metadata": false,
          "name": "#%%\n",
          "is_executing": false
        }
      }
    },
    {
      "cell_type": "code",
      "execution_count": 27,
      "outputs": [
        {
          "data": {
            "text/plain": "dict_keys([\u0027FD\u0027, \u0027Native folded\u0027, \u0027PpiA-FD\u0027, \u0027PpiANative\u0027, \u0027folding_4C_10secLabelling\u0027])"
          },
          "metadata": {},
          "output_type": "execute_result",
          "execution_count": 27
        }
      ],
      "source": "\npcf \u003d PeptideCSVFile(combined_data, drop_first\u003d1)\nstates \u003d pcf.groupby_state()\nstates.keys()",
      "metadata": {
        "pycharm": {
          "metadata": false,
          "name": "#%%\n",
          "is_executing": false
        }
      }
    },
    {
      "cell_type": "code",
      "execution_count": null,
      "outputs": [],
      "source": "\n",
      "metadata": {
        "pycharm": {
          "metadata": false,
          "name": "#%%\n"
        }
      }
    }
  ],
  "metadata": {
    "language_info": {
      "codemirror_mode": {
        "name": "ipython",
        "version": 2
      },
      "file_extension": ".py",
      "mimetype": "text/x-python",
      "name": "python",
      "nbconvert_exporter": "python",
      "pygments_lexer": "ipython2",
      "version": "2.7.6"
    },
    "kernelspec": {
      "name": "python3",
      "language": "python",
      "display_name": "Python 3"
    }
  },
  "nbformat": 4,
  "nbformat_minor": 0
}