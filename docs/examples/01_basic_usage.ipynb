{
 "cells": [
  {
   "cell_type": "markdown",
   "source": [
    "# PyHDX basics"
   ],
   "metadata": {
    "collapsed": false,
    "pycharm": {
     "name": "#%% md\n"
    }
   }
  },
  {
   "cell_type": "code",
   "execution_count": 1,
   "outputs": [],
   "source": [
    "from pyhdx import PeptideMasterTable, read_dynamx, HDXMeasurement\n",
    "from pyhdx.plot import plot_peptides\n",
    "import matplotlib.pyplot as plt\n",
    "from pathlib import Path"
   ],
   "metadata": {
    "collapsed": false,
    "pycharm": {
     "name": "#%%\n"
    }
   }
  },
  {
   "cell_type": "markdown",
   "source": [
    "We can use the ``read_dynamx`` function to read the input DynamX state file. Exposure times in the .csv files are in the\n",
    "field exposure, and we specify the unit with the `time_unit` keyword argument. The exposure time units are converted to\n",
    "seconds.\n",
    "\n",
    "This function returns a ``numpy`` structured array where each entry corresponds to one peptide, in this example 567 peptides."
   ],
   "metadata": {
    "collapsed": false,
    "pycharm": {
     "name": "#%% md\n"
    }
   }
  },
  {
   "cell_type": "code",
   "source": [
    "fpath = Path() / '..' / '..' / 'tests' / 'test_data' / 'ecSecB_apo.csv'\n",
    "data = read_dynamx(fpath, time_unit='min')\n",
    "data.size"
   ],
   "metadata": {
    "collapsed": false,
    "pycharm": {
     "name": "#%%\n"
    }
   },
   "execution_count": 2,
   "outputs": [
    {
     "data": {
      "text/plain": "567"
     },
     "execution_count": 2,
     "metadata": {},
     "output_type": "execute_result"
    }
   ]
  },
  {
   "cell_type": "markdown",
   "source": [
    "This array is loaded into the ``PeptideMasterTable`` class, which is the main data entry class. The parameter ``drop_first``\n",
    "determines how many N-terminal residues are considered to be fully back-exchanged, and therefore is subtracted from the\n",
    "total amount of exchangable D per peptide. The parameter ``ignore_prolines`` is controls whether the number of Prolines\n",
    "residues in the peptide should be subtracted from the total amount of exchangable and should generally be set to ``True``.\n",
    "\n",
    "The final number of exchangable residues is found in the 'ex_residues' field."
   ],
   "metadata": {
    "collapsed": false,
    "pycharm": {
     "name": "#%% md\n"
    }
   }
  },
  {
   "cell_type": "code",
   "source": [
    "master_table = PeptideMasterTable(data, drop_first=1, ignore_prolines=True)\n",
    "master_table.data['ex_residues'][:50]"
   ],
   "metadata": {
    "collapsed": false,
    "pycharm": {
     "name": "#%%\n"
    }
   },
   "execution_count": 3,
   "outputs": [
    {
     "data": {
      "text/plain": "array([ 8.,  8.,  8.,  8.,  8.,  8.,  8.,  8.,  8.,  6.,  6.,  6.,  6.,\n        6.,  6.,  6.,  6.,  6., 12., 12., 12., 12., 12., 12., 12., 12.,\n       12., 13., 13., 13., 13., 13., 13., 13., 13., 13., 14., 14., 14.,\n       14., 14., 14., 14., 14., 14., 20., 20., 20., 20., 20.])"
     },
     "execution_count": 3,
     "metadata": {},
     "output_type": "execute_result"
    }
   ]
  },
  {
   "cell_type": "markdown",
   "source": [
    "This master table allows us to control how the deuterium uptake content is determined. The method ``set_control`` can be\n",
    "used to choose which set of peptides is used as the fully deuterated (FD) control. This adds a new field called 'uptake'\n",
    "which is the normalized (to 100%) deuterium uptake of each peptide, with respect to the total amount of exchanging residues."
   ],
   "metadata": {
    "collapsed": false,
    "pycharm": {
     "name": "#%% md\n"
    }
   }
  },
  {
   "cell_type": "code",
   "source": [
    "master_table.set_control(('Full deuteration control', 0.167*60))\n",
    "master_table.data['uptake'][:50]"
   ],
   "metadata": {
    "collapsed": false,
    "pycharm": {
     "name": "#%%\n"
    }
   },
   "execution_count": 6,
   "outputs": [
    {
     "data": {
      "text/plain": "array([ 0.      ,  0.      ,  5.0734  ,  2.486444,  2.857141,  3.145738,\n        3.785886,  4.08295 ,  4.790625,  0.      ,  0.      ,  3.642506,\n        1.651437,  1.860919,  2.107151,  2.698036,  2.874801,  3.449561,\n        0.      ,  0.      ,  5.264543,  1.839924,  2.508343,  2.969332,\n        3.399092,  3.485568,  4.318144,  0.      ,  0.      ,  6.3179  ,\n        2.532099,  3.306167,  3.996718,  4.38941 ,  4.379495,  5.283969,\n        0.      ,  0.      ,  6.812215,  3.11985 ,  3.874881,  4.342807,\n        4.854057,  4.835639,  5.780219,  0.      ,  0.      , 10.8151  ,\n        5.432395,  6.1318  ])"
     },
     "execution_count": 6,
     "metadata": {},
     "output_type": "execute_result"
    }
   ]
  },
  {
   "cell_type": "markdown",
   "source": [
    "Next we'll select our state of interest from the master Table. The available states are listed in `master_table.states`.\n",
    "Using `get_state` allows us to select all entries which belong to this state."
   ],
   "metadata": {
    "collapsed": false,
    "pycharm": {
     "name": "#%% md\n"
    }
   }
  },
  {
   "cell_type": "code",
   "source": [
    "master_table.states\n",
    "state_data = master_table.get_state('SecB WT apo')\n",
    "state_data.size\n"
   ],
   "metadata": {
    "collapsed": false,
    "pycharm": {
     "name": "#%%\n"
    }
   },
   "execution_count": 7,
   "outputs": [
    {
     "data": {
      "text/plain": "441"
     },
     "execution_count": 7,
     "metadata": {},
     "output_type": "execute_result"
    }
   ]
  },
  {
   "cell_type": "markdown",
   "source": [
    "This `data` array can now be used to create an ``HDXMeasurement`` object, the main data object in PyHDX.\n",
    "Experimental metadata such as labelling pH and temperature can be specified. These quantities are required for calculating\n",
    "intrinsic exchange rates and ΔG values. The pH values are uncorrected values are measured by the pH meter (ie p(H, D)\n",
    "values)"
   ],
   "metadata": {
    "collapsed": false
   }
  },
  {
   "cell_type": "code",
   "execution_count": 8,
   "outputs": [
    {
     "data": {
      "text/plain": "(pyhdx.models.HDXMeasurement,\n 7,\n array([   0.     ,   10.02   ,   30.     ,   60.     ,  300.     ,\n         600.     , 6000.00048]),\n 'My HDX measurement',\n 'SecB WT apo')"
     },
     "execution_count": 8,
     "metadata": {},
     "output_type": "execute_result"
    }
   ],
   "source": [
    "hdxm = HDXMeasurement(state_data, temperature=303.15, pH=8., name='My HDX measurement')\n",
    "type(hdxm), len(hdxm), hdxm.timepoints, hdxm.name, hdxm.state"
   ],
   "metadata": {
    "collapsed": false,
    "pycharm": {
     "name": "#%%\n"
    }
   }
  },
  {
   "cell_type": "markdown",
   "source": [
    "Iterating over a ``HDXMeasurement`` object returns a set of ``HDXTimepoint`` each with their own attributes describing\n",
    "the topology of the coverage. When creating the object, peptides which are not present in all timepoints are removed, such\n",
    "that all timepoints and ``HDXTimepoint`` have identical coverage.\n",
    "\n",
    "Note that the internal time units in PyHDX are seconds."
   ],
   "metadata": {
    "collapsed": false,
    "pycharm": {
     "name": "#%% md\n"
    }
   }
  },
  {
   "cell_type": "code",
   "source": [
    "fig, ax = plt.subplots(figsize=(14, 5))\n",
    "i = 0\n",
    "plot_peptides(hdxm[i], ax, 20, cbar=True)\n",
    "t = ax.set_title(f'Peptides t = {hdxm.timepoints[i]}')\n",
    "l = ax.set_xlabel('Residue number')"
   ],
   "metadata": {
    "collapsed": false,
    "pycharm": {
     "name": "#%%\n"
    }
   },
   "execution_count": 9,
   "outputs": [
    {
     "data": {
      "text/plain": "<Figure size 1008x360 with 2 Axes>",
      "image/png": "[encoded data removed]"
     },
     "metadata": {
      "needs_background": "light"
     },
     "output_type": "display_data"
    }
   ]
  },
  {
   "cell_type": "code",
   "execution_count": 10,
   "outputs": [
    {
     "data": {
      "text/plain": "<Figure size 1008x360 with 2 Axes>",
      "image/png": "[encoded data removed]"
     },
     "metadata": {
      "needs_background": "light"
     },
     "output_type": "display_data"
    }
   ],
   "source": [
    "fig, ax = plt.subplots(figsize=(14, 5))\n",
    "i = 3\n",
    "plot_peptides(hdxm[i], ax, 20, cbar=True)\n",
    "t = ax.set_title(f'Peptides t = {hdxm.timepoints[i]}')\n",
    "l = ax.set_xlabel('Residue number')"
   ],
   "metadata": {
    "collapsed": false,
    "pycharm": {
     "name": "#%%\n"
    }
   }
  },
  {
   "cell_type": "markdown",
   "source": [
    "The data in an ``HDXMeasurement`` object can be saved to and reloaded from disk (with associated metadata)\n",
    "in .csv format."
   ],
   "metadata": {
    "collapsed": false,
    "pycharm": {
     "name": "#%% md\n"
    }
   }
  },
  {
   "cell_type": "code",
   "execution_count": 11,
   "outputs": [],
   "source": [
    "from pyhdx.fileIO import csv_to_hdxm\n",
    "\n",
    "hdxm.to_file('My_HDX_file.csv')\n",
    "hdx_load = csv_to_hdxm('My_HDX_file.csv')\n"
   ],
   "metadata": {
    "collapsed": false,
    "pycharm": {
     "name": "#%%\n"
    }
   }
  },
  {
   "cell_type": "code",
   "execution_count": null,
   "outputs": [],
   "source": [],
   "metadata": {
    "collapsed": false,
    "pycharm": {
     "name": "#%%\n"
    }
   }
  }
 ],
 "metadata": {
  "kernelspec": {
   "name": "conda-env-py38_pyhdx_pn011-py",
   "language": "python",
   "display_name": "Python [conda env:py38_pyhdx_pn011]"
  },
  "language_info": {
   "codemirror_mode": {
    "name": "ipython",
    "version": 2
   },
   "file_extension": ".py",
   "mimetype": "text/x-python",
   "name": "python",
   "nbconvert_exporter": "python",
   "pygments_lexer": "ipython2",
   "version": "2.7.6"
  }
 },
 "nbformat": 4,
 "nbformat_minor": 0
}