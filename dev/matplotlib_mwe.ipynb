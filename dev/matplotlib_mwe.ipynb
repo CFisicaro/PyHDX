{
 "cells": [
  {
   "cell_type": "code",
   "execution_count": null,
   "metadata": {},
   "outputs": [],
   "source": [
    "import numpy as np\n",
    "import param\n",
    "import panel as pn\n",
    "import matplotlib.pyplot as plt\n",
    "import matplotlib\n",
    "pn.extension()\n",
    "matplotlib.use('agg')\n",
    "\n",
    "class MPLMWE(param.Parameterized):\n",
    "    max_value = param.Number(default=20)\n",
    "    update = param.Action(lambda self: self._action_update())\n",
    "    \n",
    "    def __init__(self, **params):\n",
    "        super(MPLMWE, self).__init__(**params)\n",
    "        self.fig, self.ax = plt.subplots()\n",
    "        \n",
    "    \n",
    "    def _action_update(self):\n",
    "        # long calculation\n",
    "        print('update')\n",
    "        y = np.arange(10)**2\n",
    "        y = np.clip(y, None, self.max_value)\n",
    "        self.ax.clear()\n",
    "        self.ax.plot(y)\n",
    "        print(self.ax.lines)\n",
    "        \n",
    "    @param.depends('max_value')\n",
    "    def view(self):\n",
    "        print('view trigger')\n",
    "        return pn.pane.Matplotlib(self.fig)\n",
    "            \n",
    "    def panel(self):\n",
    "        return pn.Column(self.param, self.view)\n",
    "    \n",
    "mpl = MPLMWE()\n",
    "p = mpl.panel()\n",
    "p.app()\n"
   ]
  }
 ],
 "metadata": {
  "kernelspec": {
   "display_name": "Python [conda env:py36_main] *",
   "language": "python",
   "name": "conda-env-py36_main-py"
  },
  "language_info": {
   "codemirror_mode": {
    "name": "ipython",
    "version": 3
   },
   "file_extension": ".py",
   "mimetype": "text/x-python",
   "name": "python",
   "nbconvert_exporter": "python",
   "pygments_lexer": "ipython3",
   "version": "3.6.7"
  }
 },
 "nbformat": 4,
 "nbformat_minor": 2
}
